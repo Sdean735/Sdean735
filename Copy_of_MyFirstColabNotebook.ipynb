{
  "nbformat": 4,
  "nbformat_minor": 0,
  "metadata": {
    "colab": {
      "provenance": [],
      "authorship_tag": "ABX9TyMtuCyt0DuXThC369LdOyNL",
      "include_colab_link": true
    },
    "kernelspec": {
      "name": "python3",
      "display_name": "Python 3"
    },
    "language_info": {
      "name": "python"
    }
  },
  "cells": [
    {
      "cell_type": "markdown",
      "metadata": {
        "id": "view-in-github",
        "colab_type": "text"
      },
      "source": [
        "<a href=\"https://colab.research.google.com/github/Sdean735/Sdean735/blob/main/Copy_of_MyFirstColabNotebook.ipynb\" target=\"_parent\"><img src=\"https://colab.research.google.com/assets/colab-badge.svg\" alt=\"Open In Colab\"/></a>"
      ]
    },
    {
      "cell_type": "code",
      "execution_count": null,
      "metadata": {
        "colab": {
          "base_uri": "https://localhost:8080/"
        },
        "id": "G-FurqDS4q25",
        "outputId": "170ab301-de06-41e8-8a21-5385cbd8823c"
      },
      "outputs": [
        {
          "output_type": "stream",
          "name": "stdout",
          "text": [
            "Wed Sep 21 03:00:13 2022\n"
          ]
        }
      ],
      "source": [
        "import time\n",
        "print (time.ctime ())\n"
      ]
    },
    {
      "cell_type": "code",
      "source": [
        "time.sleep (5)\n",
        "print (time.ctime())"
      ],
      "metadata": {
        "colab": {
          "base_uri": "https://localhost:8080/"
        },
        "id": "2cCIZEXB9bfn",
        "outputId": "e155a032-e1fb-45fe-e55f-747b6dcecc70"
      },
      "execution_count": null,
      "outputs": [
        {
          "output_type": "stream",
          "name": "stdout",
          "text": [
            "Wed Sep 21 03:00:18 2022\n"
          ]
        }
      ]
    },
    {
      "cell_type": "markdown",
      "source": [
        "This is **bold**.\n",
        "This is *italic*\n",
        "This is ~ strikethrough~."
      ],
      "metadata": {
        "id": "IWsBiaMYW-Ao"
      }
    },
    {
      "cell_type": "markdown",
      "source": [
        "$\\sqrt{3x-1} + (1+x) ^ 2$\n"
      ],
      "metadata": {
        "id": "qM0YVCbDX43j"
      }
    },
    {
      "cell_type": "markdown",
      "source": [
        "$e^x = \\sum_{i = 0}^\\infty \\frac{1}{1!}x^i$"
      ],
      "metadata": {
        "id": "cu55eQM7ZKrk"
      }
    }
  ]
}